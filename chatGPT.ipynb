{
 "cells": [
  {
   "cell_type": "code",
   "execution_count": 71,
   "metadata": {},
   "outputs": [],
   "source": [
    "import openai\n",
    "import requests\n",
    "import os\n",
    "\n",
    "key_file = open('/tf/data/openai_key')\n",
    "openai.api_key = key_file.readline().strip()"
   ]
  },
  {
   "cell_type": "code",
   "execution_count": 91,
   "metadata": {},
   "outputs": [
    {
     "name": "stdout",
     "output_type": "stream",
     "text": [
      "sing a song\n",
      "\n",
      " ------------------------------   0   ------------------------------\n",
      "\n",
      "\n",
      "Oh, the sun shines bright on my old Kentucky home\n",
      "'Tis summer, the darkies are gay\n",
      "The corn top's ripe and the meadow's in the bloom\n",
      "While the birds make music all the day\n",
      "\n",
      "The young folks roll on the little cabin floor\n",
      "All merry, all happy and bright\n",
      "By 'n' by hard times comes a-knocking at the door\n",
      "Then my old Kentucky home, good night!\n",
      "\n",
      " ------------------------------   1   ------------------------------\n",
      "\n",
      "\n",
      "Oh, what a beautiful morning\n",
      "Oh, what a beautiful day\n",
      "I've got a wonderful feeling\n",
      "Everything's going my way\n",
      "\n",
      "Oh, what a beautiful morning\n",
      "Oh, what a beautiful day\n",
      "I've got a wonderful feeling\n",
      "Everything's going my way\n",
      "\n",
      " ------------------------------   2   ------------------------------\n",
      "\n",
      "\n",
      "Oh, the grand old Duke of York\n",
      "He had ten thousand men\n",
      "He marched them up to the top of the hill\n",
      "And he marched them down again\n",
      "\n",
      "And when they were up, they were up\n",
      "And when they were down, they were down\n",
      "And when they were only halfway up\n",
      "They were neither up nor down\n"
     ]
    }
   ],
   "source": [
    "# Set up the model and prompt\n",
    "model_engine = \"text-davinci-003\"\n",
    "prompt = input()\n",
    "answer_number = 3\n",
    "# Generate a response\n",
    "completion = openai.Completion.create(\n",
    "    engine=model_engine,\n",
    "    prompt=prompt,\n",
    "    max_tokens=4081,\n",
    "    n=answer_number,\n",
    "    stop=None,\n",
    "    temperature=0.5,\n",
    ")\n",
    "\n",
    "for i in range(answer_number):\n",
    "    print('\\n', '-'*30,\" \", i, \" \", '-'*30)\n",
    "    response = completion.choices[i].text\n",
    "    print(response)"
   ]
  },
  {
   "cell_type": "code",
   "execution_count": null,
   "metadata": {},
   "outputs": [],
   "source": []
  }
 ],
 "metadata": {
  "kernelspec": {
   "display_name": "Python 3",
   "language": "python",
   "name": "python3"
  }
 },
 "nbformat": 4,
 "nbformat_minor": 2
}
