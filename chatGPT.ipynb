{
 "cells": [
  {
   "cell_type": "code",
   "execution_count": 17,
   "metadata": {},
   "outputs": [],
   "source": [
    "import openai\n",
    "import requests\n",
    "import os\n",
    "import sys\n",
    "\n",
    "key_file = open('/tf/data/openai_key')\n",
    "openai.api_key = key_file.readline().strip()\n",
    "\n",
    "model_engine = \"text-davinci-003\"\n",
    "answer_number = 1"
   ]
  },
  {
   "cell_type": "code",
   "execution_count": 18,
   "metadata": {
    "scrolled": false
   },
   "outputs": [
    {
     "name": "stdout",
     "output_type": "stream",
     "text": [
      "우주 비행사는 어떤 직업이지?\n",
      "\n",
      " ----------------------------------------   0   ----------------------------------------\n",
      "\n",
      "\n",
      "우주 비행사는 우주 여행을 목적으로 탑승하는 우주선을 조종하는 직업입니다. 우주 비행사는 우주선의 안전한 운항과 우주 여행에 필요한 시스템 및 장비를 관리하고, 우주 비행 중에 발생하는 문제를 해결하는 데 필요한 전문적인 역량을 가지고 있습니다.\n"
     ]
    }
   ],
   "source": [
    "prompt = input()\n",
    "\n",
    "try:\n",
    "    completion = openai.Completion.create(\n",
    "        engine=model_engine,\n",
    "        prompt=prompt,\n",
    "        max_tokens=1000,\n",
    "        n=answer_number,\n",
    "        stop='None',\n",
    "        temperature=0.5,\n",
    "    )\n",
    "except Exception as e:\n",
    "    print(f\"{type(e)} occured:\\n\", e)\n",
    "else:\n",
    "    for i in range(answer_number):\n",
    "        print('\\n', '-'*40,\" \", i, \" \", '-'*40)\n",
    "        response = completion.choices[i].text\n",
    "        print(response)"
   ]
  },
  {
   "cell_type": "code",
   "execution_count": null,
   "metadata": {},
   "outputs": [],
   "source": []
  }
 ],
 "metadata": {
  "kernelspec": {
   "display_name": "Python 3",
   "language": "python",
   "name": "python3"
  },
  "language_info": {
   "codemirror_mode": {
    "name": "ipython",
    "version": 3
   },
   "file_extension": ".py",
   "mimetype": "text/x-python",
   "name": "python",
   "nbconvert_exporter": "python",
   "pygments_lexer": "ipython3",
   "version": "3.8.10"
  }
 },
 "nbformat": 4,
 "nbformat_minor": 2
}
