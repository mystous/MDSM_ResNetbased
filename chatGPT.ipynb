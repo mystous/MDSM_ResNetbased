{
 "cells": [
  {
   "cell_type": "code",
   "execution_count": 3,
   "metadata": {
    "scrolled": false
   },
   "outputs": [
    {
     "name": "stdout",
     "output_type": "stream",
     "text": [
      "Collecting pip\n",
      "  Downloading pip-23.0.1-py3-none-any.whl (2.1 MB)\n",
      "\u001b[K     |████████████████████████████████| 2.1 MB 11.0 MB/s eta 0:00:01\n",
      "\u001b[?25hInstalling collected packages: pip\n",
      "  Attempting uninstall: pip\n",
      "    Found existing installation: pip 20.2.4\n",
      "    Uninstalling pip-20.2.4:\n",
      "      Successfully uninstalled pip-20.2.4\n",
      "Successfully installed pip-23.0.1\n"
     ]
    }
   ],
   "source": [
    "!pip install --upgrade pip"
   ]
  },
  {
   "cell_type": "code",
   "execution_count": 1,
   "metadata": {
    "scrolled": true
   },
   "outputs": [
    {
     "name": "stdout",
     "output_type": "stream",
     "text": [
      "Collecting openai\n",
      "  Using cached openai-0.27.0-py3-none-any.whl (70 kB)\n",
      "Requirement already satisfied: tqdm in /usr/local/lib/python3.8/dist-packages (from openai) (4.64.1)\n",
      "Requirement already satisfied: requests>=2.20 in /usr/lib/python3/dist-packages (from openai) (2.22.0)\n",
      "Requirement already satisfied: aiohttp in /usr/local/lib/python3.8/dist-packages (from openai) (3.8.4)\n",
      "Requirement already satisfied: charset-normalizer<4.0,>=2.0 in /usr/local/lib/python3.8/dist-packages (from aiohttp->openai) (3.0.1)\n",
      "Requirement already satisfied: frozenlist>=1.1.1 in /usr/local/lib/python3.8/dist-packages (from aiohttp->openai) (1.3.3)\n",
      "Requirement already satisfied: attrs>=17.3.0 in /usr/local/lib/python3.8/dist-packages (from aiohttp->openai) (22.1.0)\n",
      "Requirement already satisfied: multidict<7.0,>=4.5 in /usr/local/lib/python3.8/dist-packages (from aiohttp->openai) (6.0.4)\n",
      "Requirement already satisfied: aiosignal>=1.1.2 in /usr/local/lib/python3.8/dist-packages (from aiohttp->openai) (1.3.1)\n",
      "Requirement already satisfied: async-timeout<5.0,>=4.0.0a3 in /usr/local/lib/python3.8/dist-packages (from aiohttp->openai) (4.0.2)\n",
      "Requirement already satisfied: yarl<2.0,>=1.0 in /usr/local/lib/python3.8/dist-packages (from aiohttp->openai) (1.8.2)\n",
      "Requirement already satisfied: idna>=2.0 in /usr/lib/python3/dist-packages (from yarl<2.0,>=1.0->aiohttp->openai) (2.8)\n",
      "Installing collected packages: openai\n",
      "Successfully installed openai-0.27.0\n",
      "\u001b[33mWARNING: Running pip as the 'root' user can result in broken permissions and conflicting behaviour with the system package manager. It is recommended to use a virtual environment instead: https://pip.pypa.io/warnings/venv\u001b[0m\u001b[33m\n",
      "\u001b[0m"
     ]
    }
   ],
   "source": [
    "!pip install --upgrade openai"
   ]
  },
  {
   "cell_type": "code",
   "execution_count": 9,
   "metadata": {},
   "outputs": [],
   "source": [
    "import openai\n",
    "import requests\n",
    "import os\n",
    "import sys\n",
    "\n",
    "key_file = open('/tf/data/openai_key')\n",
    "openai.api_key = key_file.readline().strip()\n",
    "\n",
    "\n",
    "#model_engine = \"davinci-codex\"\n",
    "#model_engine = \"curie\"\n",
    "answer_number = 1"
   ]
  },
  {
   "cell_type": "code",
   "execution_count": 10,
   "metadata": {
    "scrolled": false
   },
   "outputs": [
    {
     "name": "stdout",
     "output_type": "stream",
     "text": [
      "링크드인이 뭐야?\n",
      "\n",
      " ----------------------------------------   0   ----------------------------------------\n",
      "\n",
      "\n",
      "링크드인은 온라인 인맥 관리 서비스로, 사용자들이 자신의 인맥을 전세계 사람들과 공유하고, 네트워크를 구축하고, 채용 정보를 찾고, 기업과 연결하는 데 도움이 됩니다. 링크드인은 사용자가 자신의 경력 및 업무 경험, 기술 능력, 기업 및 전문가 네트워크를 공유하고 개발할 수 있는 기회를 제공합니다.\n"
     ]
    }
   ],
   "source": [
    "model_engine = \"text-davinci-003\"\n",
    "prompt = input()\n",
    "\n",
    "try:\n",
    "    completion = openai.Completion.create(\n",
    "        engine=model_engine,\n",
    "        prompt=prompt,\n",
    "        max_tokens=1000,\n",
    "        n=answer_number,\n",
    "        stop='None',\n",
    "        temperature=0.5,\n",
    "    )\n",
    "except Exception as e:\n",
    "    print(f\"{type(e)} occured:\\n\", e)\n",
    "else:\n",
    "    for i in range(answer_number):\n",
    "        print('\\n', '-'*60,\" \", i, \" \", '-'*60)\n",
    "        response = completion.choices[i].text\n",
    "        print(response)"
   ]
  },
  {
   "cell_type": "code",
   "execution_count": 21,
   "metadata": {
    "scrolled": false
   },
   "outputs": [
    {
     "name": "stdout",
     "output_type": "stream",
     "text": [
      "You are a helpful assistant that translates English to French\n",
      "\n",
      " ------------------------------------------------------------   0   ------------------------------------------------------------\n",
      "Vous êtes un assistant utile qui traduit l'anglais en français.\n"
     ]
    }
   ],
   "source": [
    "model_engine = \"text-davinci-003\"\n",
    "prompt = input()\n",
    "\n",
    "try:\n",
    "    completion = openai.ChatCompletion.create(\n",
    "        model=\"gpt-3.5-turbo\", \n",
    "      #messages=[{\"role\": \"user\", \"content\": prompt}]\n",
    "        messages=[\n",
    "              {\"role\": \"system\", \"content\": \"You are a helpful assistant that translates English to French.\"},\n",
    "              {\"role\": \"user\", \"content\": f\"Translate the following English text to French: {prompt}\"}\n",
    "            ])\n",
    "\n",
    "except Exception as e:\n",
    "    print(f\"{type(e)} occured:\\n\", e)\n",
    "else:\n",
    "    for i in range(answer_number):\n",
    "        print('\\n', '-'*60,\" \", i, \" \", '-'*60)\n",
    "        print(completion.choices[i].message.content)"
   ]
  },
  {
   "cell_type": "code",
   "execution_count": null,
   "metadata": {},
   "outputs": [],
   "source": []
  }
 ],
 "metadata": {
  "kernelspec": {
   "display_name": "Python 3",
   "language": "python",
   "name": "python3"
  },
  "language_info": {
   "codemirror_mode": {
    "name": "ipython",
    "version": 3
   },
   "file_extension": ".py",
   "mimetype": "text/x-python",
   "name": "python",
   "nbconvert_exporter": "python",
   "pygments_lexer": "ipython3",
   "version": "3.8.10"
  }
 },
 "nbformat": 4,
 "nbformat_minor": 2
}
