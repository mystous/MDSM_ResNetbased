{
 "cells": [
  {
   "cell_type": "code",
   "execution_count": 5,
   "metadata": {},
   "outputs": [],
   "source": [
    "import requests"
   ]
  },
  {
   "cell_type": "code",
   "execution_count": 6,
   "metadata": {},
   "outputs": [],
   "source": [
    "key_file = open('/tf/data/openai_key')\n",
    "api_key = key_file.readline().strip()"
   ]
  },
  {
   "cell_type": "code",
   "execution_count": 7,
   "metadata": {},
   "outputs": [
    {
     "name": "stdout",
     "output_type": "stream",
     "text": [
      "Error: {\n",
      "    \"error\": {\n",
      "        \"message\": \"you must provide a model parameter\",\n",
      "        \"type\": \"invalid_request_error\",\n",
      "        \"param\": null,\n",
      "        \"code\": null\n",
      "    }\n",
      "}\n",
      "\n"
     ]
    }
   ],
   "source": [
    "url = \"https://api.openai.com/v1/completions\"\n",
    "\n",
    "headers = {\n",
    "    f\"Authorization\": f\"Bearer {api_key}\",\n",
    "    \"Content-Type\": \"application/json\"\n",
    "}\n",
    "\n",
    "prompt = \"What is the meaning of life?\"\n",
    "max_tokens = 1000\n",
    "\n",
    "payload = {\n",
    "    \"prompt\": prompt,\n",
    "    \"max_tokens\": max_tokens,\n",
    "    \"temperature\": 0.5,\n",
    "    \"stop\": \"\\n\"\n",
    "}\n",
    "\n",
    "response = requests.post(url, headers=headers, json=payload) \n",
    "\n",
    "if response.ok:\n",
    "    output = response.json()[\"choices\"][0][\"text\"]\n",
    "else:\n",
    "    output = \"Error: \" + response.text\n",
    "print(output)"
   ]
  },
  {
   "cell_type": "code",
   "execution_count": null,
   "metadata": {},
   "outputs": [],
   "source": []
  }
 ],
 "metadata": {
  "kernelspec": {
   "display_name": "Python 3",
   "language": "python",
   "name": "python3"
  },
  "language_info": {
   "codemirror_mode": {
    "name": "ipython",
    "version": 3
   },
   "file_extension": ".py",
   "mimetype": "text/x-python",
   "name": "python",
   "nbconvert_exporter": "python",
   "pygments_lexer": "ipython3",
   "version": "3.8.10"
  }
 },
 "nbformat": 4,
 "nbformat_minor": 2
}
